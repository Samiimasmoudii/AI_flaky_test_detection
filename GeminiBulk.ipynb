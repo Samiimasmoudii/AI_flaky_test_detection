{
 "cells": [
  {
   "cell_type": "code",
   "execution_count": 2,
   "id": "5bd399e4",
   "metadata": {},
   "outputs": [],
   "source": [
    "# Flaky Test Patch Comparator Notebook (API-Based, No Repo Cloning)\n",
    "\n",
    "import os\n",
    "import base64\n",
    "import requests\n",
    "import difflib\n",
    "import pandas as pd\n",
    "from pathlib import Path"
   ]
  },
  {
   "cell_type": "code",
   "execution_count": null,
   "id": "3a9d5087",
   "metadata": {},
   "outputs": [],
   "source": [
    "# ========== STEP 1: Load Data ==========\n",
    "CSV_PATH = \"/mnt/data/py-data.csv\"\n",
    "df = pd.read_csv(CSV_PATH)\n",
    "df = df.dropna(subset=['Project URL', 'SHA Detected'])\n",
    "df = df[~df['Notes'].astype(str).str.contains(\"deleted\", case=False)]"
   ]
  },
  {
   "cell_type": "code",
   "execution_count": null,
   "id": "53877000",
   "metadata": {},
   "outputs": [],
   "source": [
    "# ========== STEP 2: GitHub API Utilities ==========\n",
    "GITHUB_API = \"https://api.github.com\"\n",
    "HEADERS = {}  # Optional: Add token like {'Authorization': 'token YOUR_GITHUB_TOKEN'}\n"
   ]
  },
  {
   "cell_type": "code",
   "execution_count": null,
   "id": "a3d3f9ab",
   "metadata": {},
   "outputs": [],
   "source": [
    "# ========== STEP 3: Setup Output Directory ==========\n",
    "RESULTS_DIR = Path(\"results\")\n",
    "RESULTS_DIR.mkdir(exist_ok=True)"
   ]
  },
  {
   "cell_type": "code",
   "execution_count": null,
   "id": "82c66219",
   "metadata": {},
   "outputs": [],
   "source": [
    "# ========== STEP 4: Download File Versions ==========\n",
    "def get_changed_files(owner, repo, sha):\n",
    "    url = f\"{GITHUB_API}/repos/{owner}/{repo}/commits/{sha}\"\n",
    "    response = requests.get(url, headers=HEADERS)\n",
    "    if response.status_code != 200:\n",
    "        raise Exception(f\"Failed to get commit data for {owner}/{repo}@{sha}\")\n",
    "    commit_data = response.json()\n",
    "    files = commit_data.get(\"files\", [])\n",
    "    parent_sha = commit_data[\"parents\"][0][\"sha\"] if commit_data[\"parents\"] else None\n",
    "    return files, parent_sha\n",
    "def download_file_content(owner, repo, path, sha):\n",
    "    url = f\"{GITHUB_API}/repos/{owner}/{repo}/contents/{path}?ref={sha}\"\n",
    "    r = requests.get(url, headers=HEADERS)\n",
    "    if r.status_code != 200:\n",
    "        return None\n",
    "    content = r.json().get(\"content\")\n",
    "    return base64.b64decode(content).decode(\"utf-8\") if content else None"
   ]
  },
  {
   "cell_type": "code",
   "execution_count": null,
   "id": "c1ee623f",
   "metadata": {},
   "outputs": [],
   "source": [
    "\n",
    "# ========== STEP 5: Save Files ==========\n",
    "def save_file_versions(output_dir, filename, before, after):\n",
    "    with open(output_dir / \"before.py\", \"w\", encoding=\"utf-8\") as f:\n",
    "        f.write(before or \"\")\n",
    "    with open(output_dir / \"after.py\", \"w\", encoding=\"utf-8\") as f:\n",
    "        f.write(after or \"\")\n",
    "    with open(output_dir / \"developer_patch.diff\", \"w\", encoding=\"utf-8\") as f:\n",
    "        diff = difflib.unified_diff((before or \"\").splitlines(), (after or \"\").splitlines(), fromfile='before.py', tofile='after.py', lineterm=\"\")\n",
    "        f.write(\"\\n\".join(diff))"
   ]
  },
  {
   "cell_type": "code",
   "execution_count": null,
   "metadata": {},
   "outputs": [],
   "source": [
    "# ========== STEP 6: Run LLM Placeholder ==========\n",
    "def run_llm_on_file(file_path):\n",
    "    return \"LLM fix placeholder\""
   ]
  },
  {
   "cell_type": "code",
   "execution_count": null,
   "id": "172eb994",
   "metadata": {},
   "outputs": [],
   "source": [
    "def compare_fixes(llm_fix, developer_patch):\n",
    "    d = difflib.unified_diff(\n",
    "        developer_patch.splitlines(),\n",
    "        llm_fix.splitlines(),\n",
    "        lineterm=\"\"\n",
    "    )\n",
    "    return \"\\n\".join(d)"
   ]
  },
  {
   "cell_type": "code",
   "execution_count": null,
   "id": "82056493",
   "metadata": {},
   "outputs": [],
   "source": [
    "SAMPLE_SIZE = 5\n",
    "\n",
    "for idx, row in df.sample(SAMPLE_SIZE, random_state=42).iterrows():\n",
    "    url, sha, test_path = row['Project URL'], row['SHA Detected'], row['Pytest Test Name (PathToFile::TestClass::TestMethod or PathToFile::TestMethod)']\n",
    "    print(f\"Processing {url} @ {sha}\")\n",
    "\n",
    "    try:\n",
    "        parts = url.rstrip(\"/\").split(\"/\")\n",
    "        owner, repo = parts[-2], parts[-1]\n",
    "\n",
    "        changed_files, parent_sha = get_changed_files(owner, repo, sha)\n",
    "        if not parent_sha:\n",
    "            continue\n",
    "\n",
    "        # Heuristic match: file path based on test_path\n",
    "        for file in changed_files:\n",
    "            filepath = file.get(\"filename\")\n",
    "            if test_path.split(\"::\")[0].endswith(filepath):\n",
    "                before = download_file_content(owner, repo, filepath, parent_sha)\n",
    "                after = download_file_content(owner, repo, filepath, sha)\n",
    "\n",
    "                safe_test = test_path.replace(\"/\", \"_\").replace(\"::\", \"_\")\n",
    "                output_dir = RESULTS_DIR / safe_test\n",
    "                output_dir.mkdir(parents=True, exist_ok=True)\n",
    "\n",
    "                save_file_versions(output_dir, filepath, before, after)\n",
    "                llm_fix = run_llm_on_file(output_dir / \"before.py\")\n",
    "\n",
    "                with open(output_dir / \"developer_patch.diff\") as f:\n",
    "                    dev_patch = f.read()\n",
    "\n",
    "                comparison = compare_fixes(llm_fix, dev_patch)\n",
    "                with open(output_dir / \"comparison.txt\", \"w\") as f:\n",
    "                    f.write(comparison)\n",
    "\n",
    "    except Exception as e:\n",
    "        print(f\"Error processing {url}@{sha}: {e}\")\n"
   ]
  }
 ],
 "metadata": {
  "kernelspec": {
   "display_name": ".venv",
   "language": "python",
   "name": "python3"
  },
  "language_info": {
   "codemirror_mode": {
    "name": "ipython",
    "version": 3
   },
   "file_extension": ".py",
   "mimetype": "text/x-python",
   "name": "python",
   "nbconvert_exporter": "python",
   "pygments_lexer": "ipython3",
   "version": "3.12.1"
  }
 },
 "nbformat": 4,
 "nbformat_minor": 5
}
